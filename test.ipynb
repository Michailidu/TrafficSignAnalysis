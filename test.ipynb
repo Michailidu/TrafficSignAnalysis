{
 "cells": [
  {
   "cell_type": "code",
   "execution_count": null,
   "outputs": [],
   "source": [
    "import seaborn as sns\n",
    "import matplotlib.pyplot as plt\n",
    "import numpy as np\n",
    "from ultralytics import YOLO"
   ],
   "metadata": {
    "collapsed": false,
    "pycharm": {
     "name": "#%%\n"
    }
   }
  },
  {
   "cell_type": "code",
   "execution_count": null,
   "metadata": {
    "id": "ddU3u8IqDGSM"
   },
   "outputs": [],
   "source": [
    "# values to be set\n",
    "model_path = \"\"\n",
    "imgsz = 640  # change to desired value\n",
    "config_path = 'config_test.yaml'"
   ]
  },
  {
   "cell_type": "markdown",
   "source": [
    "Load model"
   ],
   "metadata": {
    "collapsed": false,
    "pycharm": {
     "name": "#%% md\n"
    }
   }
  },
  {
   "cell_type": "code",
   "execution_count": null,
   "metadata": {
    "id": "iA5EkdjzChZX"
   },
   "outputs": [],
   "source": [
    "model = YOLO(model_path)"
   ]
  },
  {
   "cell_type": "markdown",
   "source": [
    "Run the validation"
   ],
   "metadata": {
    "collapsed": false,
    "pycharm": {
     "name": "#%% md\n"
    }
   }
  },
  {
   "cell_type": "code",
   "execution_count": null,
   "metadata": {
    "id": "FuMU6Dvum2JH",
    "colab": {
     "base_uri": "https://localhost:8080/"
    },
    "outputId": "27be299f-2e36-4039-d4e7-2d2fb68b487d"
   },
   "outputs": [],
   "source": [
    "%%time\n",
    "results = model.val(data=config_path, imgsz=imgsz, batch=8, conf=0.25, device='0', plots=True)"
   ]
  },
  {
   "cell_type": "markdown",
   "source": [
    "Test mAP50 & mAP75"
   ],
   "metadata": {
    "collapsed": false,
    "pycharm": {
     "name": "#%% md\n"
    }
   }
  },
  {
   "cell_type": "code",
   "source": [
    "results.box.map50, results.box.map75"
   ],
   "metadata": {
    "colab": {
     "base_uri": "https://localhost:8080/"
    },
    "id": "bCBCVgvtNLcH",
    "outputId": "0ea10901-b2ee-4397-87e5-0915bb9043b4"
   },
   "execution_count": null,
   "outputs": []
  },
  {
   "cell_type": "markdown",
   "source": [
    "Confusion matrix plot"
   ],
   "metadata": {
    "collapsed": false,
    "pycharm": {
     "name": "#%% md\n"
    }
   }
  },
  {
   "cell_type": "code",
   "source": [
    "confusion_matrix = results.confusion_matrix.matrix\n",
    "cm = np.array(confusion_matrix)\n",
    "\n",
    "fig, ax = plt.subplots(figsize=(20, 16))\n",
    "class_names = results.names\n",
    "sns.heatmap(cm, annot=False, fmt=\".2f\", cmap='rocket_r', yticklabels=class_names, xticklabels=class_names)\n",
    "\n",
    "ax.set_ylabel('True')\n",
    "ax.set_xlabel('Predicted')\n",
    "\n",
    "plt.xticks(rotation=45, ha='right')\n",
    "plt.yticks(rotation=0)\n",
    "\n",
    "plt.show()"
   ],
   "metadata": {
    "colab": {
     "base_uri": "https://localhost:8080/",
     "height": 1000
    },
    "id": "1V3USAsUKuGU",
    "outputId": "2fae965c-869f-4b01-88fd-9d9b32eb2b19",
    "pycharm": {
     "name": "#%%\n"
    }
   },
   "execution_count": null,
   "outputs": []
  }
 ],
 "metadata": {
  "accelerator": "GPU",
  "colab": {
   "gpuType": "T4",
   "provenance": []
  },
  "kernelspec": {
   "display_name": "Python 3",
   "name": "python3"
  },
  "language_info": {
   "name": "python"
  }
 },
 "nbformat": 4,
 "nbformat_minor": 0
}